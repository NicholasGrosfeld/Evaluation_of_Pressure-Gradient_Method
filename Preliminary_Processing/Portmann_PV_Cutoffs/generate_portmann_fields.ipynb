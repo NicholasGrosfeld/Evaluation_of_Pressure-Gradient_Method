{
 "cells": [
  {
   "cell_type": "code",
   "execution_count": 1,
   "id": "7bf6e342-d0da-4701-b377-87baac34b9af",
   "metadata": {},
   "outputs": [],
   "source": [
    "\"\"\"\n",
    "This code is for generating an amalgamated dataset of fields of potential vorticity \n",
    "cutoffs from the dataset published in Portmann et al. 2021 (https://doi.org/10.5194/wcd-2-507-2021). \n",
    "\n",
    "It opens the netcdf files of pv cutoff areas from Irina Rudeva's directory on Gadi, extracts the\n",
    "fields from the specified range of isentropic levels, and saves the output also as a netcdf file. \n",
    "\"\"\"\n",
    "import numpy as np\n",
    "import xarray as xr"
   ]
  },
  {
   "cell_type": "code",
   "execution_count": 2,
   "id": "11c51f6c-a66b-4eb5-b8cc-69c081f0d821",
   "metadata": {},
   "outputs": [],
   "source": [
    "def monthstr(m):\n",
    "    '''This function converts a number representing a month to a string, and adds a leading\n",
    "    0 if the month number is between 1 and 9. '''\n",
    "    \n",
    "    if m < 10:\n",
    "        mstr = str(0) + str(m)\n",
    "    else:\n",
    "        mstr = str(m)\n",
    "    return mstr"
   ]
  },
  {
   "cell_type": "code",
   "execution_count": 3,
   "id": "faa93a3e-f441-4e93-b275-1fe9986dabd0",
   "metadata": {},
   "outputs": [],
   "source": [
    "# ============================== Setup Parameters ===========================\n",
    "\n",
    "years = (1979, 2017)\n",
    "months = (1,12)\n",
    "\n",
    "levels = (300, 320)\n",
    "\n",
    "portmann_data_path = '/g/data/eg3/ir9737/cutoff/data/all/'\n",
    "save_path = '/g/data/w40/nxg561/Portmann_Cutoffs/'"
   ]
  },
  {
   "cell_type": "code",
   "execution_count": 4,
   "id": "b30987d5-0e39-4dfc-a72d-ce3a16de4203",
   "metadata": {},
   "outputs": [
    {
     "name": "stdout",
     "output_type": "stream",
     "text": [
      "2009\n",
      "0.3.0\n",
      "2010\n",
      "2011\n",
      "2012\n",
      "2013\n",
      "2014\n",
      "2015\n",
      "2016\n",
      "2017\n",
      "CPU times: user 2min 53s, sys: 2min 6s, total: 5min\n",
      "Wall time: 18min 41s\n"
     ]
    }
   ],
   "source": [
    "%%time\n",
    "\n",
    "# Loop through each month of each year, open all the pv cutoff files, and stack the\n",
    "# cutoff fields into a single file for that month.\n",
    "\n",
    "yearrange = np.arange(years[0], years[1] + 1)\n",
    "monthrange = np.arange(months[0], months[1] + 1)\n",
    "\n",
    "for year in yearrange:\n",
    "    print(year)\n",
    "    for month in monthrange:\n",
    "\n",
    "        #print(year, ' ', month)\n",
    "        \n",
    "        ### Extract the Portmann cutoff low fields for each timestep of the month ###\n",
    "        # Open the Portman low file one by one\n",
    "        portmann_file_path = portmann_data_path + str(year) + '/' + monthstr(month) + '/'\n",
    "        portmann_file_name = 'M' + str(year) + monthstr(month) + '*'\n",
    "        xr_obj = xr.open_mfdataset(portmann_file_path + portmann_file_name, combine = 'nested', concat_dim = 'time', engine = 'netcdf4')\n",
    "\n",
    "        # This was adapted from Irina's code to correct the axes. It creates and assigns new lat, lon and level axes\n",
    "        xr_obj_upd = xr_obj.squeeze().rename_dims({\"dimz_C\":\"level\",\"dimy_C\":\"latitude\",\"dimx_C\":\"longitude\"},).assign_coords(\n",
    "                             longitude = np.arange(-180,181,1)\n",
    "                            ,latitude  = np.arange(-90,91,1)\n",
    "                            ,level     = np.arange(290,351,5))\n",
    "\n",
    "        # Select all levels within the specified range, for the southern Hemisphere\n",
    "        track_id_fields = xr_obj_upd['track_id'].sel(level = slice(levels[0], levels[1]), latitude = slice(-90, 0))\n",
    "\n",
    "        # Compute a composite sum field for the cutoffs through all vertical levels\n",
    "        cutoff_fields = track_id_fields.sum(dim = 'level')\n",
    "\n",
    "        # Save the stack of composite fields in a file for that month.\n",
    "        output_filename = 'pv_cutoffs_' + str(year) + monthstr(month) + '.nc'\n",
    "        cutoff_fields.to_netcdf(save_path + output_filename, mode = 'w', format = 'NETCDF4', engine = 'netcdf4')"
   ]
  },
  {
   "cell_type": "code",
   "execution_count": 5,
   "id": "b05a6461-462f-4a8d-9cb3-fc6ffc1c0438",
   "metadata": {},
   "outputs": [],
   "source": [
    "# Finally concatenate all the months into one file for the whole period\n",
    "xr_obj_final = xr.open_mfdataset(save_path + '*.nc', combine = 'nested', concat_dim = 'time', engine = 'netcdf4')\n",
    "\n",
    "output_filename = 'pv_cutoffs_1979-2017_old.nc'\n",
    "        \n",
    "xr_obj_final.to_netcdf(save_path + output_filename, mode = 'w', format = 'NETCDF4', engine = 'netcdf4')"
   ]
  },
  {
   "cell_type": "code",
   "execution_count": null,
   "id": "4055707f-c098-4418-b80e-a0a73a3fb814",
   "metadata": {},
   "outputs": [],
   "source": [
    "cutoff_fields.data"
   ]
  },
  {
   "cell_type": "code",
   "execution_count": null,
   "id": "554366fc-f8c2-435a-b32d-b22531ed074b",
   "metadata": {},
   "outputs": [],
   "source": [
    "xr_obj_final"
   ]
  },
  {
   "cell_type": "code",
   "execution_count": null,
   "id": "5dcef51c-3623-4042-83c0-ca59c0b04947",
   "metadata": {},
   "outputs": [],
   "source": []
  }
 ],
 "metadata": {
  "kernelspec": {
   "display_name": "Python [conda env:analysis3-unstable]",
   "language": "python",
   "name": "conda-env-analysis3-unstable-py"
  },
  "language_info": {
   "codemirror_mode": {
    "name": "ipython",
    "version": 3
   },
   "file_extension": ".py",
   "mimetype": "text/x-python",
   "name": "python",
   "nbconvert_exporter": "python",
   "pygments_lexer": "ipython3",
   "version": "3.10.13"
  }
 },
 "nbformat": 4,
 "nbformat_minor": 5
}
