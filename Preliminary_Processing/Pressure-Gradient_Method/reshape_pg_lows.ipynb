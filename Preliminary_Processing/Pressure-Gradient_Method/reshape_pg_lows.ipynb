{
 "cells": [
  {
   "cell_type": "code",
   "execution_count": 1,
   "id": "65c4d190-83f5-4c81-b626-e96ae83d0691",
   "metadata": {},
   "outputs": [],
   "source": [
    "# This code simply takes a subset of closed lows recorded in a file, within\n",
    "# a given range of latitude, longitude and year bounds. \n",
    "\n",
    "# ==================== Import Modules ====================================\n",
    "import numpy as np"
   ]
  },
  {
   "cell_type": "code",
   "execution_count": 2,
   "id": "5da2042c-d87a-4f3c-83ca-923157cb6bd4",
   "metadata": {},
   "outputs": [],
   "source": [
    "# Time and Space boundaries for the subset\n",
    "lats = (-30, -45) # (-30, -45) to compare against P12, (-25, -55) for else, and (-30, -45) for months and years plots\n",
    "lons = (125, 147.5) # (125, 147.5) to compare against P12, (100, 160) for else, and (125, 147.5) for months and years plots\n",
    "years = (1979, 2009) # (1979, 2009) to compare against P12, (1979, 2017) for else\n",
    "months = (4, 10) # (4, 10) to compare against P12, (1,12) for else\n",
    "\n",
    "# Data I/O parameters\n",
    "data_path = '/home/561/nxg561/00_Tracking_Scheme_Comparison/Input_Data/Nick_Lows/'\n",
    "\n",
    "input_filename = 'rawlows_pg_500_era5.txt'\n",
    "output_filename = 'closed_lows_pg_era5_' + str(years[1]) + '.txt'"
   ]
  },
  {
   "cell_type": "code",
   "execution_count": 3,
   "id": "dbcc53de-5480-4a7b-92c1-eb64b494c323",
   "metadata": {
    "tags": []
   },
   "outputs": [],
   "source": [
    "# ======================== Data I/O ======================================\n",
    "raw_lows_np = np.loadtxt(data_path + input_filename, delimiter = ',')\n",
    "\n",
    "# numpy arrays of booleans that select the cyclones within the space and time bounds\n",
    "# This line selects the subset of latitudes and longitudes\n",
    "ila = (raw_lows_np[:,6] <= lats[0]) & (raw_lows_np[:,6] >= lats[1])\n",
    "ilo = (raw_lows_np[:,7] >= lons[0]) & (raw_lows_np[:,7] <= lons[1])\n",
    "\n",
    "# This line selects the subset of years and months\n",
    "iy = (raw_lows_np[:,1] >= years[0]) & (raw_lows_np[:,1] <= years[1])\n",
    "im = (raw_lows_np[:,2] >= months[0]) & (raw_lows_np[:,2] <= months[1])\n",
    "#im = np.logical_not((raw_lows_np[:,2] >= months[0]) & (raw_lows_np[:,2] <= months[1])) # I used this\n",
    "# code for the summer vs winter subsets"
   ]
  },
  {
   "cell_type": "code",
   "execution_count": 4,
   "id": "ea6dc07a-8cc8-4813-9662-ece8684ce963",
   "metadata": {},
   "outputs": [],
   "source": [
    "# Save output\n",
    "output_array = raw_lows_np[ila & ilo & iy & im, :]\n",
    "np.savetxt(data_path + output_filename, output_array, delimiter = ',')"
   ]
  },
  {
   "cell_type": "code",
   "execution_count": 5,
   "id": "c61e9d71-762f-4ef6-a307-b5eec1645df0",
   "metadata": {},
   "outputs": [
    {
     "name": "stdout",
     "output_type": "stream",
     "text": [
      "[ 3.17422000e+05  2.00900000e+03  1.00000000e+01  2.50000000e+01\n",
      "  1.80000000e+01  9.62634000e+05 -3.00000000e+01  1.44000000e+02\n",
      "  5.51527031e+04  2.03876631e+02  6.99025932e+02]\n"
     ]
    }
   ],
   "source": [
    "print(output_array[-1,:])"
   ]
  },
  {
   "cell_type": "code",
   "execution_count": 6,
   "id": "c6755983-13b5-412d-815e-2ee822dc3ba7",
   "metadata": {},
   "outputs": [
    {
     "data": {
      "text/plain": [
       "(5189, 11)"
      ]
     },
     "execution_count": 6,
     "metadata": {},
     "output_type": "execute_result"
    }
   ],
   "source": [
    "np.shape(output_array)"
   ]
  },
  {
   "cell_type": "code",
   "execution_count": null,
   "id": "d7ff2bbd-c641-4cc7-9cd8-0180c6df8867",
   "metadata": {},
   "outputs": [],
   "source": []
  }
 ],
 "metadata": {
  "kernelspec": {
   "display_name": "Python [conda env:analysis3-23.01]",
   "language": "python",
   "name": "conda-env-analysis3-23.01-py"
  },
  "language_info": {
   "codemirror_mode": {
    "name": "ipython",
    "version": 3
   },
   "file_extension": ".py",
   "mimetype": "text/x-python",
   "name": "python",
   "nbconvert_exporter": "python",
   "pygments_lexer": "ipython3",
   "version": "3.9.15"
  }
 },
 "nbformat": 4,
 "nbformat_minor": 5
}
